{
 "cells": [
  {
   "cell_type": "code",
   "execution_count": 1,
   "id": "a2207e7e-753d-4c1d-a723-ebfadd58b374",
   "metadata": {},
   "outputs": [
    {
     "name": "stdout",
     "output_type": "stream",
     "text": [
      "[6 4 6 5 6 3 5 4 6 6]\n"
     ]
    }
   ],
   "source": [
    "#binomial exp\n",
    "import numpy as np\n",
    "x=np.random.binomial(n=10,p=0.5,size=10)\n",
    "print(x)"
   ]
  },
  {
   "cell_type": "code",
   "execution_count": 12,
   "id": "1a7b210d-3eb0-495c-aef5-c10f3beb53e4",
   "metadata": {},
   "outputs": [
    {
     "data": {
      "image/png": "[encoded data removed]",
      "text/plain": [
       "<Figure size 640x480 with 1 Axes>"
      ]
     },
     "metadata": {},
     "output_type": "display_data"
    }
   ],
   "source": [
    "import numpy as np\n",
    "import matplotlib.pyplot as plt\n",
    "\n",
    "x = np.random.binomial(n=10, p=0.5, size=10)\n",
    "plt.hist(x, bins=range(12), edgecolor='black')  # Set bin ranges and edgecolor for clarity\n",
    "plt.title(\"My Graph\")\n",
    "plt.xlabel(\"x-axis data\")\n",
    "plt.ylabel(\"y-axis data\")\n",
    "plt.show()"
   ]
  },
  {
   "cell_type": "code",
   "execution_count": 16,
   "id": "fce7f1ae-cb5f-41da-bb2c-67bdf00d711f",
   "metadata": {},
   "outputs": [
    {
     "name": "stdout",
     "output_type": "stream",
     "text": [
      "0    p\n",
      "1    a\n",
      "2    d\n",
      "3    a\n",
      "4    s\n",
      "dtype: object\n"
     ]
    }
   ],
   "source": [
    "#creating series array\n",
    "import pandas as pd\n",
    "import numpy as np\n",
    "info=np.array(['p','a','d','a','s'])\n",
    "a=pd.Series(info)\n",
    "print(a)"
   ]
  },
  {
   "cell_type": "code",
   "execution_count": 18,
   "id": "9258bf42-3fde-4c04-b2f9-cbf3a9c21898",
   "metadata": {},
   "outputs": [
    {
     "name": "stdout",
     "output_type": "stream",
     "text": [
      "        0\n",
      "0  python\n",
      "1  pandas\n"
     ]
    }
   ],
   "source": [
    "#create a data frame using list\n",
    "import pandas as pd\n",
    "x=['python','pandas']\n",
    "df=pd.DataFrame(x)\n",
    "print(df)"
   ]
  },
  {
   "cell_type": "code",
   "execution_count": 20,
   "id": "513faa19-5e1f-4059-acc3-21c9457615d0",
   "metadata": {},
   "outputs": [
    {
     "data": {
      "text/plain": [
       "0    core\n",
       "1     NaN\n",
       "2     NaN\n",
       "3     NaN\n",
       "4     NaN\n",
       "dtype: object"
      ]
     },
     "execution_count": 20,
     "metadata": {},
     "output_type": "execute_result"
    }
   ],
   "source": [
    "import pandas as pd\n",
    "import numpy as np\n",
    "a=pd.Series(['java','c','c++','python',np.nan])\n",
    "a.map({'java':'core'})"
   ]
  },
  {
   "cell_type": "code",
   "execution_count": 24,
   "id": "a5af69f3-277f-4233-8fa1-76fb17b91dd3",
   "metadata": {},
   "outputs": [
    {
     "data": {
      "text/html": [
       "<div>\n",
       "<style scoped>\n",
       "    .dataframe tbody tr th:only-of-type {\n",
       "        vertical-align: middle;\n",
       "    }\n",
       "\n",
       "    .dataframe tbody tr th {\n",
       "        vertical-align: top;\n",
       "    }\n",
       "\n",
       "    .dataframe thead th {\n",
       "        text-align: right;\n",
       "    }\n",
       "</style>\n",
       "<table border=\"1\" class=\"dataframe\">\n",
       "  <thead>\n",
       "    <tr style=\"text-align: right;\">\n",
       "      <th></th>\n",
       "      <th>0</th>\n",
       "    </tr>\n",
       "  </thead>\n",
       "  <tbody>\n",
       "    <tr>\n",
       "      <th>0</th>\n",
       "      <td>a</td>\n",
       "    </tr>\n",
       "    <tr>\n",
       "      <th>1</th>\n",
       "      <td>b</td>\n",
       "    </tr>\n",
       "    <tr>\n",
       "      <th>2</th>\n",
       "      <td>c</td>\n",
       "    </tr>\n",
       "  </tbody>\n",
       "</table>\n",
       "</div>"
      ],
      "text/plain": [
       "   0\n",
       "0  a\n",
       "1  b\n",
       "2  c"
      ]
     },
     "execution_count": 24,
     "metadata": {},
     "output_type": "execute_result"
    }
   ],
   "source": [
    "s=pd.Series(['a','b','c'])\n",
    "name='vals'\n",
    "s.to_frame()"
   ]
  },
  {
   "cell_type": "code",
   "execution_count": 38,
   "id": "952ef4bf-954a-4cb2-b17a-99bf17322a7e",
   "metadata": {},
   "outputs": [
    {
     "name": "stdout",
     "output_type": "stream",
     "text": [
      "0    Core\n",
      "1     NaN\n",
      "2     NaN\n",
      "3     NaN\n",
      "dtype: object\n",
      "0    I like Java\n",
      "1       I like C\n",
      "2     I like C++\n",
      "3            NaN\n",
      "dtype: object\n",
      "      0\n",
      "0  Java\n",
      "1     C\n",
      "2   C++\n",
      "3   NaN\n"
     ]
    }
   ],
   "source": [
    "import pandas as pd\n",
    "import numpy as np\n",
    "\n",
    "a = pd.Series(['Java', 'C', 'C++', np.nan])\n",
    "mapped_a = a.map({'Java': 'Core'})\n",
    "print(mapped_a)\n",
    "formatted_a = a.map('I like {}'.format, na_action='ignore')\n",
    "print(formatted_a)\n",
    "df = a.to_frame()\n",
    "print(df)"
   ]
  },
  {
   "cell_type": "code",
   "execution_count": 26,
   "id": "9314aa63-f749-4a79-89c6-d150b27044b8",
   "metadata": {},
   "outputs": [
    {
     "name": "stdout",
     "output_type": "stream",
     "text": [
      "         Emp   ID\n",
      "0     parker  102\n",
      "1       john  107\n",
      "2      smith  109\n",
      "3  willomson  114\n"
     ]
    }
   ],
   "source": [
    "import pandas as pd\n",
    "import numpy as np\n",
    "emp=['parker','john','smith','willomson']\n",
    "id=[102,107,109,114]\n",
    "emp_series = pd.Series(emp)\n",
    "id_series = pd.Series(id)\n",
    "frame = {'Emp':emp_series,'ID':id_series}\n",
    "result = pd.DataFrame(frame)\n",
    "print(result)"
   ]
  },
  {
   "cell_type": "code",
   "execution_count": 46,
   "id": "f4dadaeb-7911-4b78-8b2d-e36c037d02bb",
   "metadata": {},
   "outputs": [
    {
     "name": "stdout",
     "output_type": "stream",
     "text": [
      "    ID Department\n",
      "0  101       B.sc\n",
      "1  102     B.Tech\n",
      "2  103     M.Tech\n"
     ]
    }
   ],
   "source": [
    "import pandas as pd\n",
    "info={'ID':[101,102,103],'Department':['B.sc','B.Tech','M.Tech',]}\n",
    "df = pd.DataFrame(info)\n",
    "print(df)"
   ]
  },
  {
   "cell_type": "code",
   "execution_count": 52,
   "id": "c732e3a8-8976-42f0-9640-e891f69d4da8",
   "metadata": {},
   "outputs": [
    {
     "name": "stdout",
     "output_type": "stream",
     "text": [
      "   one  two\n",
      "a  1.0    1\n",
      "b  2.0    2\n",
      "c  3.0    3\n",
      "d  4.0    4\n",
      "e  5.0    5\n",
      "f  6.0    6\n",
      "g  NaN    7\n",
      "h  NaN    8\n"
     ]
    }
   ],
   "source": [
    "import pandas as pd\n",
    "info = {'one':pd.Series([1,2,3,4,5,6],index = ['a','b','c','d','e','f']),\n",
    "    'two':pd.Series([1,2,3,4,5,6,7,8],index = ['a','b','c','d','e','f','g','h'])}\n",
    "df = pd.DataFrame(info)\n",
    "print(df)\n",
    "\n"
   ]
  },
  {
   "cell_type": "code",
   "execution_count": 54,
   "id": "4b3c16d7-47a8-4cd7-830c-f2c0a3ba5abb",
   "metadata": {},
   "outputs": [
    {
     "name": "stdout",
     "output_type": "stream",
     "text": [
      "      Name  Age         City\n",
      "0    Alice   25     New York\n",
      "1      Bob   30  Los Angeles\n",
      "2  Charlie   35      Chicago\n"
     ]
    }
   ],
   "source": [
    "#Assignment\n",
    "#create a dictionart name ,age and city and pass value to it conver into the dataframe\n",
    "import pandas as pd\n",
    "data = {\n",
    "    'Name': ['Alice', 'Bob', 'Charlie'],\n",
    "    'Age': [25, 30, 35],\n",
    "    'City': ['New York', 'Los Angeles', 'Chicago']}\n",
    "df = pd.DataFrame(data)\n",
    "print(df)\n",
    "\n"
   ]
  },
  {
   "cell_type": "code",
   "execution_count": 56,
   "id": "dab18399-88a3-4355-aaf5-c120d000767a",
   "metadata": {},
   "outputs": [
    {
     "name": "stdout",
     "output_type": "stream",
     "text": [
      "      Name  Age         City\n",
      "0    Alice   25     New York\n",
      "1      Bob   30  Los Angeles\n",
      "2  Charlie   35      Chicago\n"
     ]
    }
   ],
   "source": [
    "#Assignment\n",
    "#create a dataframe of the list of list \n",
    "import pandas as pd\n",
    "data = [\n",
    "    ['Alice', 25, 'New York'],\n",
    "    ['Bob', 30, 'Los Angeles'],\n",
    "    ['Charlie', 35, 'Chicago']]\n",
    "columns = ['Name', 'Age', 'City']\n",
    "df = pd.DataFrame(data, columns=columns)\n",
    "print(df)\n"
   ]
  },
  {
   "cell_type": "code",
   "execution_count": 58,
   "id": "51d7723b-54b5-4b82-9ae5-e234dd918ea5",
   "metadata": {},
   "outputs": [
    {
     "name": "stdout",
     "output_type": "stream",
     "text": [
      "Add a new column by passing a series\n",
      "   one  two  three\n",
      "a  1.0    1   20.0\n",
      "b  2.0    2   40.0\n",
      "c  3.0    3   60.0\n",
      "d  4.0    4    NaN\n",
      "e  5.0    5    NaN\n",
      "f  6.0    6    NaN\n",
      "g  NaN    7    NaN\n",
      "h  NaN    8    NaN\n",
      "Add new column using existing DataFrame coloumn\n",
      "    one  two  three  four\n",
      "a  20.0    1   20.0  20.0\n",
      "b  40.0    2   40.0  40.0\n",
      "c  60.0    3   60.0  60.0\n",
      "d   NaN    4    NaN   NaN\n",
      "e   NaN    5    NaN   NaN\n",
      "f   NaN    6    NaN   NaN\n",
      "g   NaN    7    NaN   NaN\n",
      "h   NaN    8    NaN   NaN\n"
     ]
    }
   ],
   "source": [
    "#Adding coloumn in existing dataframe\n",
    "import pandas as pd\n",
    "info = {'one':pd.Series([1,2,3,4,5,6],index = ['a','b','c','d','e','f']),\n",
    "    'two':pd.Series([1,2,3,4,5,6,7,8],index = ['a','b','c','d','e','f','g','h'])}\n",
    "df = pd.DataFrame(info)\n",
    "print('Add a new column by passing a series')\n",
    "df['three'] = pd.Series([20,40,60],index = ['a','b','c'])\n",
    "print(df)\n",
    "print('Add new column using existing DataFrame coloumn')\n",
    "df['four'] = df['one'] = df['three']\n",
    "print(df)\n",
    "\n"
   ]
  },
  {
   "cell_type": "code",
   "execution_count": 60,
   "id": "c05d74cd-d5b0-4bae-bd2f-4bfc84ad5cc4",
   "metadata": {},
   "outputs": [
    {
     "name": "stdout",
     "output_type": "stream",
     "text": [
      "The DataFrame:\n",
      "   one  two\n",
      "a  1.0    1\n",
      "b  2.0    2\n",
      "c  NaN    3\n",
      "Delete the First Column:\n",
      "   two\n",
      "a    1\n",
      "b    2\n",
      "c    3\n",
      "Delete the another column:\n",
      "Empty DataFrame\n",
      "Columns: []\n",
      "Index: [a, b, c]\n"
     ]
    }
   ],
   "source": [
    "import pandas as pd\n",
    "info = {\n",
    "    'one': pd.Series([1, 2], index=['a', 'b']),\n",
    "    'two': pd.Series([1, 2, 3], index=['a', 'b', 'c'])\n",
    "}\n",
    "\n",
    "df = pd.DataFrame(info)\n",
    "print(\"The DataFrame:\")\n",
    "print(df)\n",
    "print(\"Delete the First Column:\")\n",
    "del df['one']\n",
    "print(df)\n",
    "\n",
    "print(\"Delete the another column:\")\n",
    "df.pop('two') \n",
    "print(df)"
   ]
  },
  {
   "cell_type": "code",
   "execution_count": 63,
   "id": "baaa220b-864f-4626-b3db-61136b1d564b",
   "metadata": {},
   "outputs": [
    {
     "name": "stdout",
     "output_type": "stream",
     "text": [
      "one    2.0\n",
      "two    2.0\n",
      "Name: b, dtype: float64\n"
     ]
    }
   ],
   "source": [
    "import pandas as pd\n",
    "info = {\n",
    "    'one': pd.Series([1, 2,3,4,5], index=['a', 'b','c','d','e']),\n",
    "    'two': pd.Series([1, 2, 3,4,5,6], index=['a', 'b', 'c','d','e','f'])\n",
    "}\n",
    "\n",
    "df = pd.DataFrame(info)\n",
    "print(df.loc['b'])"
   ]
  },
  {
   "cell_type": "code",
   "execution_count": 65,
   "id": "0930b911-f39c-4bd0-bc9f-4f03be8e8ea3",
   "metadata": {},
   "outputs": [
    {
     "name": "stdout",
     "output_type": "stream",
     "text": [
      "DataFrame:\n",
      "  stud.name  stud.id     dept grade\n",
      "0     Alice      101       CS     A\n",
      "1       Bob      102     Math     B\n",
      "2   Charlie      103  Physics     A\n",
      "3     David      104       CS     C\n",
      "Retrieve using the dept names (CS):\n",
      "  stud.name  stud.id dept grade\n",
      "0     Alice      101   CS     A\n",
      "3     David      104   CS     C\n",
      "Retrieve the iloc of row 2:\n",
      "stud.name    Charlie\n",
      "stud.id          103\n",
      "dept         Physics\n",
      "grade              A\n",
      "Name: 2, dtype: object\n",
      "Retrieve the student ids:\n",
      "0    101\n",
      "1    102\n",
      "2    103\n",
      "3    104\n",
      "Name: stud.id, dtype: int64\n"
     ]
    }
   ],
   "source": [
    "#assignment\n",
    "import pandas as pd\n",
    "data = {\n",
    "    'stud.name': ['Alice', 'Bob', 'Charlie', 'David'],\n",
    "    'stud.id': [101, 102, 103, 104],\n",
    "    'dept': ['CS', 'Math', 'Physics', 'CS'],\n",
    "    'grade': ['A', 'B', 'A', 'C']}\n",
    "df = pd.DataFrame(data)\n",
    "print(\"DataFrame:\")\n",
    "print(df)\n",
    "\n",
    "# i) Retrieve rows where dept is 'CS'\n",
    "print(\"Retrieve using the dept names (CS):\")\n",
    "cs_students = df[df['dept'] == 'CS']\n",
    "print(cs_students)\n",
    "\n",
    "# ii) Retrieve the iloc of row 2 (third row)\n",
    "print(\"Retrieve the iloc of row 2:\")\n",
    "iloc_row = df.iloc[2]\n",
    "print(iloc_row)\n",
    "\n",
    "# iii) Retrieve the student ids\n",
    "print(\"Retrieve the student ids:\")\n",
    "student_ids = df['stud.id']\n",
    "print(student_ids)"
   ]
  },
  {
   "cell_type": "code",
   "execution_count": 67,
   "id": "077080f4-ebef-4351-9c26-ee280fe53b65",
   "metadata": {},
   "outputs": [
    {
     "name": "stdout",
     "output_type": "stream",
     "text": [
      "   one  two\n",
      "c  3.0    3\n",
      "d  4.0    4\n",
      "e  5.0    5\n"
     ]
    }
   ],
   "source": [
    "import pandas as pd\n",
    "info = {\n",
    "    'one': pd.Series([1, 2,3,4,5], index=['a', 'b','c','d','e']),\n",
    "    'two': pd.Series([1, 2, 3,4,5,6], index=['a', 'b', 'c','d','e','f'])}\n",
    "df = pd.DataFrame(info)\n",
    "print(df[2:5])"
   ]
  },
  {
   "cell_type": "code",
   "execution_count": 78,
   "id": "cada14fb-eb0e-4b3b-bfa3-284709a45829",
   "metadata": {},
   "outputs": [
    {
     "name": "stdout",
     "output_type": "stream",
     "text": [
      "    x   y\n",
      "0   7   8\n",
      "1   9  10\n",
      "0  11  12\n",
      "1  13  14\n"
     ]
    }
   ],
   "source": [
    "#append\n",
    "import pandas as pd\n",
    "d=pd.DataFrame([[7,8],[9,10]],columns = ['x','y'])\n",
    "d2 = pd.DataFrame([[11,12],[13,14]],columns = ['x','y'])\n",
    "d = pd.concat([d,d2])\n",
    "print(d)"
   ]
  },
  {
   "cell_type": "code",
   "execution_count": 84,
   "id": "301943bc-eee8-467a-b75d-15389a1bfaaa",
   "metadata": {},
   "outputs": [
    {
     "name": "stdout",
     "output_type": "stream",
     "text": [
      "    x   y\n",
      "1   9  10\n",
      "1  13  14\n"
     ]
    }
   ],
   "source": [
    "import pandas as pd\n",
    "a_info=pd.DataFrame([[7,8],[9,10]],columns = ['x','y'])\n",
    "b_info = pd.DataFrame([[11,12],[13,14]],columns = ['x','y'])\n",
    "a_info = pd.concat([a_info,b_info])\n",
    "a_info = a_info.drop(0)\n",
    "print(a_info)"
   ]
  },
  {
   "cell_type": "code",
   "execution_count": 86,
   "id": "d0cee8e9-87dc-47ac-bf51-c69766b28971",
   "metadata": {},
   "outputs": [
    {
     "name": "stderr",
     "output_type": "stream",
     "text": [
      "<>:2: SyntaxWarning: invalid escape sequence '\\L'\n",
      "<>:2: SyntaxWarning: invalid escape sequence '\\L'\n",
      "C:\\Users\\aparu\\AppData\\Local\\Temp\\ipykernel_15544\\87727289.py:2: SyntaxWarning: invalid escape sequence '\\L'\n",
      "  df=pd.read_csv(\"C:\\Lungcancer.csv\")\n"
     ]
    },
    {
     "name": "stdout",
     "output_type": "stream",
     "text": [
      "     GENDER  AGE SMOKING YELLOW_FINGERS ANXIETY PEER_PRESSURE CHRONIC_DISEASE  \\\n",
      "0         M   65     Yes            Yes     Yes            No              No   \n",
      "1         F   55     Yes             No      No           Yes             Yes   \n",
      "2         F   78      No             No     Yes           Yes             Yes   \n",
      "3         M   60      No            Yes     Yes           Yes              No   \n",
      "4         F   80     Yes            Yes      No           Yes             Yes   \n",
      "...     ...  ...     ...            ...     ...           ...             ...   \n",
      "2995      F   71      No            Yes     Yes            No              No   \n",
      "2996      F   75     Yes             No     Yes           Yes             Yes   \n",
      "2997      F   62      No             No      No           Yes              No   \n",
      "2998      M   30     Yes            Yes      No            No              No   \n",
      "2999      M   40     Yes             No      No           Yes             Yes   \n",
      "\n",
      "     FATIGUE ALLERGY WHEEZING ALCOHOL_CONSUMING COUGHING SHORTNESS_OF_BREATH  \\\n",
      "0        Yes      No       No                No       No                  No   \n",
      "1         No      No       No               Yes      Yes                 Yes   \n",
      "2         No     Yes       No               Yes      Yes                  No   \n",
      "3        Yes      No      Yes               Yes       No                 Yes   \n",
      "4         No     Yes       No               Yes      Yes                 Yes   \n",
      "...      ...     ...      ...               ...      ...                 ...   \n",
      "2995     Yes     Yes      Yes               Yes       No                 Yes   \n",
      "2996      No      No       No                No      Yes                 Yes   \n",
      "2997      No      No       No               Yes      Yes                  No   \n",
      "2998      No      No       No                No      Yes                  No   \n",
      "2999     Yes      No       No                No      Yes                 Yes   \n",
      "\n",
      "     SWALLOWING_DIFFICULTY CHEST_PAIN LUNG_CANCER  \n",
      "0                       No        Yes          NO  \n",
      "1                       No         No          NO  \n",
      "2                      Yes        Yes         YES  \n",
      "3                       No         No         YES  \n",
      "4                      Yes         No          NO  \n",
      "...                    ...        ...         ...  \n",
      "2995                   Yes         No          NO  \n",
      "2996                    No        Yes          NO  \n",
      "2997                    No         No         YES  \n",
      "2998                   Yes         No         YES  \n",
      "2999                   Yes        Yes         YES  \n",
      "\n",
      "[3000 rows x 16 columns]\n"
     ]
    }
   ],
   "source": [
    "import pandas as pd \n",
    "df=pd.read_csv(\"C:\\Lungcancer.csv\")\n",
    "print(df)"
   ]
  },
  {
   "cell_type": "code",
   "execution_count": 88,
   "id": "9a1b4423-1dac-4c5f-93bb-cb35788b1212",
   "metadata": {},
   "outputs": [
    {
     "name": "stdout",
     "output_type": "stream",
     "text": [
      "  GENDER  AGE SMOKING YELLOW_FINGERS ANXIETY PEER_PRESSURE CHRONIC_DISEASE  \\\n",
      "0      M   65     Yes            Yes     Yes            No              No   \n",
      "1      F   55     Yes             No      No           Yes             Yes   \n",
      "2      F   78      No             No     Yes           Yes             Yes   \n",
      "3      M   60      No            Yes     Yes           Yes              No   \n",
      "4      F   80     Yes            Yes      No           Yes             Yes   \n",
      "\n",
      "  FATIGUE ALLERGY WHEEZING ALCOHOL_CONSUMING COUGHING SHORTNESS_OF_BREATH  \\\n",
      "0     Yes      No       No                No       No                  No   \n",
      "1      No      No       No               Yes      Yes                 Yes   \n",
      "2      No     Yes       No               Yes      Yes                  No   \n",
      "3     Yes      No      Yes               Yes       No                 Yes   \n",
      "4      No     Yes       No               Yes      Yes                 Yes   \n",
      "\n",
      "  SWALLOWING_DIFFICULTY CHEST_PAIN LUNG_CANCER  \n",
      "0                    No        Yes          NO  \n",
      "1                    No         No          NO  \n",
      "2                   Yes        Yes         YES  \n",
      "3                    No         No         YES  \n",
      "4                   Yes         No          NO  \n"
     ]
    },
    {
     "name": "stderr",
     "output_type": "stream",
     "text": [
      "<>:2: SyntaxWarning: invalid escape sequence '\\L'\n",
      "<>:2: SyntaxWarning: invalid escape sequence '\\L'\n",
      "C:\\Users\\aparu\\AppData\\Local\\Temp\\ipykernel_15544\\1160788911.py:2: SyntaxWarning: invalid escape sequence '\\L'\n",
      "  df=pd.read_csv(\"C:\\Lungcancer.csv\")\n"
     ]
    }
   ],
   "source": [
    "import pandas as pd \n",
    "df=pd.read_csv(\"C:\\Lungcancer.csv\")\n",
    "print(df.head(5))"
   ]
  },
  {
   "cell_type": "code",
   "execution_count": 90,
   "id": "0b42b332-2c43-4cc8-8521-de731e73a127",
   "metadata": {},
   "outputs": [
    {
     "name": "stdout",
     "output_type": "stream",
     "text": [
      "     GENDER  AGE SMOKING YELLOW_FINGERS ANXIETY PEER_PRESSURE CHRONIC_DISEASE  \\\n",
      "2995      F   71      No            Yes     Yes            No              No   \n",
      "2996      F   75     Yes             No     Yes           Yes             Yes   \n",
      "2997      F   62      No             No      No           Yes              No   \n",
      "2998      M   30     Yes            Yes      No            No              No   \n",
      "2999      M   40     Yes             No      No           Yes             Yes   \n",
      "\n",
      "     FATIGUE ALLERGY WHEEZING ALCOHOL_CONSUMING COUGHING SHORTNESS_OF_BREATH  \\\n",
      "2995     Yes     Yes      Yes               Yes       No                 Yes   \n",
      "2996      No      No       No                No      Yes                 Yes   \n",
      "2997      No      No       No               Yes      Yes                  No   \n",
      "2998      No      No       No                No      Yes                  No   \n",
      "2999     Yes      No       No                No      Yes                 Yes   \n",
      "\n",
      "     SWALLOWING_DIFFICULTY CHEST_PAIN LUNG_CANCER  \n",
      "2995                   Yes         No          NO  \n",
      "2996                    No        Yes          NO  \n",
      "2997                    No         No         YES  \n",
      "2998                   Yes         No         YES  \n",
      "2999                   Yes        Yes         YES  \n"
     ]
    },
    {
     "name": "stderr",
     "output_type": "stream",
     "text": [
      "<>:2: SyntaxWarning: invalid escape sequence '\\L'\n",
      "<>:2: SyntaxWarning: invalid escape sequence '\\L'\n",
      "C:\\Users\\aparu\\AppData\\Local\\Temp\\ipykernel_15544\\1295007754.py:2: SyntaxWarning: invalid escape sequence '\\L'\n",
      "  df=pd.read_csv(\"C:\\Lungcancer.csv\")\n"
     ]
    }
   ],
   "source": [
    "import pandas as pd \n",
    "df=pd.read_csv(\"C:\\Lungcancer.csv\")\n",
    "print(df.tail(5))"
   ]
  },
  {
   "cell_type": "code",
   "execution_count": 94,
   "id": "d4cfdf1d-a8ce-4f03-827b-100eac31d714",
   "metadata": {},
   "outputs": [
    {
     "name": "stdout",
     "output_type": "stream",
     "text": [
      "(3000, 16)\n"
     ]
    },
    {
     "name": "stderr",
     "output_type": "stream",
     "text": [
      "<>:2: SyntaxWarning: invalid escape sequence '\\L'\n",
      "<>:2: SyntaxWarning: invalid escape sequence '\\L'\n",
      "C:\\Users\\aparu\\AppData\\Local\\Temp\\ipykernel_15544\\4144839484.py:2: SyntaxWarning: invalid escape sequence '\\L'\n",
      "  df=pd.read_csv(\"C:\\Lungcancer.csv\")\n"
     ]
    }
   ],
   "source": [
    "import pandas as pd \n",
    "df=pd.read_csv(\"C:\\Lungcancer.csv\")\n",
    "print(df.shape)"
   ]
  },
  {
   "cell_type": "code",
   "execution_count": 96,
   "id": "0f0f53cb-02ed-421d-90d7-ca7b9838a495",
   "metadata": {},
   "outputs": [
    {
     "name": "stdout",
     "output_type": "stream",
     "text": [
      "<class 'pandas.core.frame.DataFrame'>\n",
      "RangeIndex: 3000 entries, 0 to 2999\n",
      "Data columns (total 16 columns):\n",
      " #   Column                 Non-Null Count  Dtype \n",
      "---  ------                 --------------  ----- \n",
      " 0   GENDER                 3000 non-null   object\n",
      " 1   AGE                    3000 non-null   int64 \n",
      " 2   SMOKING                3000 non-null   object\n",
      " 3   YELLOW_FINGERS         3000 non-null   object\n",
      " 4   ANXIETY                3000 non-null   object\n",
      " 5   PEER_PRESSURE          3000 non-null   object\n",
      " 6   CHRONIC_DISEASE        3000 non-null   object\n",
      " 7   FATIGUE                3000 non-null   object\n",
      " 8   ALLERGY                3000 non-null   object\n",
      " 9   WHEEZING               3000 non-null   object\n",
      " 10  ALCOHOL_CONSUMING      3000 non-null   object\n",
      " 11  COUGHING               3000 non-null   object\n",
      " 12  SHORTNESS_OF_BREATH    3000 non-null   object\n",
      " 13  SWALLOWING_DIFFICULTY  3000 non-null   object\n",
      " 14  CHEST_PAIN             3000 non-null   object\n",
      " 15  LUNG_CANCER            3000 non-null   object\n",
      "dtypes: int64(1), object(15)\n",
      "memory usage: 375.1+ KB\n",
      "None\n"
     ]
    },
    {
     "name": "stderr",
     "output_type": "stream",
     "text": [
      "<>:2: SyntaxWarning: invalid escape sequence '\\L'\n",
      "<>:2: SyntaxWarning: invalid escape sequence '\\L'\n",
      "C:\\Users\\aparu\\AppData\\Local\\Temp\\ipykernel_15544\\2066517465.py:2: SyntaxWarning: invalid escape sequence '\\L'\n",
      "  df=pd.read_csv(\"C:\\Lungcancer.csv\")\n"
     ]
    }
   ],
   "source": [
    "import pandas as pd \n",
    "df=pd.read_csv(\"C:\\Lungcancer.csv\")\n",
    "print(df.info())"
   ]
  },
  {
   "cell_type": "code",
   "execution_count": 19,
   "id": "8a7b0c4b-6c9f-4de6-959c-ee63f2fee133",
   "metadata": {},
   "outputs": [
    {
     "name": "stdout",
     "output_type": "stream",
     "text": [
      "GENDER  AGE  SMOKING  YELLOW_FINGERS  ANXIETY  PEER_PRESSURE  CHRONIC_DISEASE  FATIGUE  ALLERGY  WHEEZING  ALCOHOL_CONSUMING  COUGHING  SHORTNESS_OF_BREATH  SWALLOWING_DIFFICULTY  CHEST_PAIN  LUNG_CANCER\n",
      "M       53   Yes      No              No       No             No               Yes      Yes      Yes       Yes                No        No                   Yes                    No          NO             2\n",
      "        50   Yes      Yes             Yes      No             Yes              No       Yes      No        No                 No        No                   Yes                    No          YES            2\n",
      "F       30   No       No              No       No             Yes              Yes      No       No        No                 No        Yes                  Yes                    Yes         NO             1\n",
      "M       47   No       Yes             Yes      Yes            No               No       No       No        Yes                No        No                   Yes                    No          NO             1\n",
      "                      No              Yes      Yes            Yes              Yes      Yes      No        No                 No        Yes                  Yes                    No          NO             1\n",
      "                                                                                                                                                                                                              ..\n",
      "F       63   Yes      Yes             No       Yes            No               Yes      Yes      No        No                 No        Yes                  Yes                    Yes         NO             1\n",
      "                                                              Yes              Yes      No       Yes       Yes                Yes       Yes                  Yes                    No          NO             1\n",
      "                                                                                        Yes      No        No                 No        No                   No                     No          YES            1\n",
      "                                                                                                                              Yes       No                   Yes                    Yes         YES            1\n",
      "M       80   Yes      Yes             Yes      Yes            No               Yes      No       Yes       Yes                Yes       Yes                  Yes                    No          NO             1\n",
      "Name: count, Length: 2998, dtype: int64\n"
     ]
    },
    {
     "name": "stderr",
     "output_type": "stream",
     "text": [
      "<>:2: SyntaxWarning: invalid escape sequence '\\L'\n",
      "<>:2: SyntaxWarning: invalid escape sequence '\\L'\n",
      "C:\\Users\\aparu\\AppData\\Local\\Temp\\ipykernel_15408\\904694918.py:2: SyntaxWarning: invalid escape sequence '\\L'\n",
      "  df=pd.read_csv(\"C:\\Lungcancer.csv\")\n"
     ]
    }
   ],
   "source": [
    "import pandas as pd \n",
    "df=pd.read_csv(\"C:\\Lungcancer.csv\")\n",
    "x=df.value_counts(dropna = False)\n",
    "print(x)\n"
   ]
  },
  {
   "cell_type": "code",
   "execution_count": 39,
   "id": "e24ce87c-7298-464a-8af1-814c2f6d6be9",
   "metadata": {},
   "outputs": [
    {
     "name": "stdout",
     "output_type": "stream",
     "text": [
      "0      M\n",
      "1      M\n",
      "2      F\n",
      "3      M\n",
      "4      F\n",
      "      ..\n",
      "304    F\n",
      "305    M\n",
      "306    M\n",
      "307    M\n",
      "308    M\n",
      "Name: GENDER, Length: 309, dtype: object\n",
      "     AGE  SMOKING\n",
      "0     69        1\n",
      "1     74        2\n",
      "2     59        1\n",
      "3     63        2\n",
      "4     63        1\n",
      "..   ...      ...\n",
      "304   56        1\n",
      "305   70        2\n",
      "306   58        2\n",
      "307   67        2\n",
      "308   62        1\n",
      "\n",
      "[309 rows x 2 columns]\n",
      "GENDER                     M\n",
      "AGE                       69\n",
      "SMOKING                    1\n",
      "YELLOW_FINGERS             2\n",
      "ANXIETY                    2\n",
      "PEER_PRESSURE              1\n",
      "CHRONIC DISEASE            1\n",
      "FATIGUE                    2\n",
      "ALLERGY                    1\n",
      "WHEEZING                   2\n",
      "ALCOHOL CONSUMING          2\n",
      "COUGHING                   2\n",
      "SHORTNESS OF BREATH        2\n",
      "SWALLOWING DIFFICULTY      2\n",
      "CHEST PAIN                 2\n",
      "LUNG_CANCER              YES\n",
      "Name: 0, dtype: object\n",
      "GENDER                    F\n",
      "AGE                      63\n",
      "SMOKING                   1\n",
      "YELLOW_FINGERS            2\n",
      "ANXIETY                   1\n",
      "PEER_PRESSURE             1\n",
      "CHRONIC DISEASE           1\n",
      "FATIGUE                   1\n",
      "ALLERGY                   1\n",
      "WHEEZING                  2\n",
      "ALCOHOL CONSUMING         1\n",
      "COUGHING                  2\n",
      "SHORTNESS OF BREATH       2\n",
      "SWALLOWING DIFFICULTY     1\n",
      "CHEST PAIN                1\n",
      "LUNG_CANCER              NO\n",
      "Name: 4, dtype: object\n"
     ]
    },
    {
     "name": "stderr",
     "output_type": "stream",
     "text": [
      "<>:2: SyntaxWarning: invalid escape sequence '\\s'\n",
      "<>:2: SyntaxWarning: invalid escape sequence '\\s'\n",
      "C:\\Users\\aparu\\AppData\\Local\\Temp\\ipykernel_15408\\497698125.py:2: SyntaxWarning: invalid escape sequence '\\s'\n",
      "  df=pd.read_csv(\"C:\\survey lung cancer.csv\")\n"
     ]
    }
   ],
   "source": [
    "import pandas as pd \n",
    "df=pd.read_csv(\"C:\\survey lung cancer.csv\")\n",
    "print(df['GENDER'])\n",
    "print(df[['AGE','SMOKING']])\n",
    "s = df.iloc[0]\n",
    "print(s)\n",
    "y = df.loc[4]\n",
    "print(y)"
   ]
  },
  {
   "cell_type": "code",
   "execution_count": 120,
   "id": "dd2127d9-b110-4d10-b1cf-104e4d94c708",
   "metadata": {},
   "outputs": [
    {
     "name": "stdout",
     "output_type": "stream",
     "text": [
      "Index(['GENDER', 'AGE', 'SMOKING', 'YELLOW_FINGERS', 'ANXIETY',\n",
      "       'PEER_PRESSURE', 'CHRONIC DISEASE', 'FATIGUE ', 'ALLERGY ', 'WHEEZING',\n",
      "       'ALCOHOL CONSUMING', 'COUGHING', 'SHORTNESS OF BREATH',\n",
      "       'SWALLOWING DIFFICULTY', 'CHEST PAIN', 'LUNG_CANCER'],\n",
      "      dtype='object')\n"
     ]
    },
    {
     "name": "stderr",
     "output_type": "stream",
     "text": [
      "<>:2: SyntaxWarning: invalid escape sequence '\\s'\n",
      "<>:2: SyntaxWarning: invalid escape sequence '\\s'\n",
      "C:\\Users\\aparu\\AppData\\Local\\Temp\\ipykernel_15544\\2073043725.py:2: SyntaxWarning: invalid escape sequence '\\s'\n",
      "  df=pd.read_csv(\"C:\\survey lung cancer.csv\")\n"
     ]
    }
   ],
   "source": [
    "import pandas as pd \n",
    "df=pd.read_csv(\"C:\\survey lung cancer.csv\")\n",
    "print(df.columns)"
   ]
  },
  {
   "cell_type": "code",
   "execution_count": 102,
   "id": "2cb056b1-483a-4030-bd55-11d6e21a50e9",
   "metadata": {},
   "outputs": [
    {
     "name": "stdout",
     "output_type": "stream",
     "text": [
      "     GENDER    AGE  SMOKING  YELLOW_FINGERS  ANXIETY  PEER_PRESSURE  \\\n",
      "0     False  False    False           False    False          False   \n",
      "1     False  False    False           False    False          False   \n",
      "2     False  False    False           False    False          False   \n",
      "3     False  False    False           False    False          False   \n",
      "4     False  False    False           False    False          False   \n",
      "..      ...    ...      ...             ...      ...            ...   \n",
      "304   False  False    False           False    False          False   \n",
      "305   False  False    False           False    False          False   \n",
      "306   False  False    False           False    False          False   \n",
      "307   False  False    False           False    False          False   \n",
      "308   False  False    False           False    False          False   \n",
      "\n",
      "     CHRONIC DISEASE  FATIGUE   ALLERGY   WHEEZING  ALCOHOL CONSUMING  \\\n",
      "0              False     False     False     False              False   \n",
      "1              False     False     False     False              False   \n",
      "2              False     False     False     False              False   \n",
      "3              False     False     False     False              False   \n",
      "4              False     False     False     False              False   \n",
      "..               ...       ...       ...       ...                ...   \n",
      "304            False     False     False     False              False   \n",
      "305            False     False     False     False              False   \n",
      "306            False     False     False     False              False   \n",
      "307            False     False     False     False              False   \n",
      "308            False     False     False     False              False   \n",
      "\n",
      "     COUGHING  SHORTNESS OF BREATH  SWALLOWING DIFFICULTY  CHEST PAIN  \\\n",
      "0       False                False                  False       False   \n",
      "1       False                False                  False       False   \n",
      "2       False                False                  False       False   \n",
      "3       False                False                  False       False   \n",
      "4       False                False                  False       False   \n",
      "..        ...                  ...                    ...         ...   \n",
      "304     False                False                  False       False   \n",
      "305     False                False                  False       False   \n",
      "306     False                False                  False       False   \n",
      "307     False                False                  False       False   \n",
      "308     False                False                  False       False   \n",
      "\n",
      "     LUNG_CANCER  \n",
      "0          False  \n",
      "1          False  \n",
      "2          False  \n",
      "3          False  \n",
      "4          False  \n",
      "..           ...  \n",
      "304        False  \n",
      "305        False  \n",
      "306        False  \n",
      "307        False  \n",
      "308        False  \n",
      "\n",
      "[309 rows x 16 columns]\n"
     ]
    },
    {
     "name": "stderr",
     "output_type": "stream",
     "text": [
      "<>:2: SyntaxWarning: invalid escape sequence '\\s'\n",
      "<>:2: SyntaxWarning: invalid escape sequence '\\s'\n",
      "C:\\Users\\aparu\\AppData\\Local\\Temp\\ipykernel_15544\\3510495719.py:2: SyntaxWarning: invalid escape sequence '\\s'\n",
      "  df=pd.read_csv(\"C:\\survey lung cancer.csv\")\n"
     ]
    }
   ],
   "source": [
    "import pandas as pd \n",
    "df=pd.read_csv(\"C:\\survey lung cancer.csv\")\n",
    "x=df.isnull()\n",
    "print(x)"
   ]
  },
  {
   "cell_type": "code",
   "execution_count": 104,
   "id": "66ea6e11-8c23-41f6-97a3-dbd9f23fbf08",
   "metadata": {},
   "outputs": [
    {
     "name": "stdout",
     "output_type": "stream",
     "text": [
      "     GENDER   AGE  SMOKING  YELLOW_FINGERS  ANXIETY  PEER_PRESSURE  \\\n",
      "0      True  True     True            True     True           True   \n",
      "1      True  True     True            True     True           True   \n",
      "2      True  True     True            True     True           True   \n",
      "3      True  True     True            True     True           True   \n",
      "4      True  True     True            True     True           True   \n",
      "..      ...   ...      ...             ...      ...            ...   \n",
      "304    True  True     True            True     True           True   \n",
      "305    True  True     True            True     True           True   \n",
      "306    True  True     True            True     True           True   \n",
      "307    True  True     True            True     True           True   \n",
      "308    True  True     True            True     True           True   \n",
      "\n",
      "     CHRONIC DISEASE  FATIGUE   ALLERGY   WHEEZING  ALCOHOL CONSUMING  \\\n",
      "0               True      True      True      True               True   \n",
      "1               True      True      True      True               True   \n",
      "2               True      True      True      True               True   \n",
      "3               True      True      True      True               True   \n",
      "4               True      True      True      True               True   \n",
      "..               ...       ...       ...       ...                ...   \n",
      "304             True      True      True      True               True   \n",
      "305             True      True      True      True               True   \n",
      "306             True      True      True      True               True   \n",
      "307             True      True      True      True               True   \n",
      "308             True      True      True      True               True   \n",
      "\n",
      "     COUGHING  SHORTNESS OF BREATH  SWALLOWING DIFFICULTY  CHEST PAIN  \\\n",
      "0        True                 True                   True        True   \n",
      "1        True                 True                   True        True   \n",
      "2        True                 True                   True        True   \n",
      "3        True                 True                   True        True   \n",
      "4        True                 True                   True        True   \n",
      "..        ...                  ...                    ...         ...   \n",
      "304      True                 True                   True        True   \n",
      "305      True                 True                   True        True   \n",
      "306      True                 True                   True        True   \n",
      "307      True                 True                   True        True   \n",
      "308      True                 True                   True        True   \n",
      "\n",
      "     LUNG_CANCER  \n",
      "0           True  \n",
      "1           True  \n",
      "2           True  \n",
      "3           True  \n",
      "4           True  \n",
      "..           ...  \n",
      "304         True  \n",
      "305         True  \n",
      "306         True  \n",
      "307         True  \n",
      "308         True  \n",
      "\n",
      "[309 rows x 16 columns]\n"
     ]
    },
    {
     "name": "stderr",
     "output_type": "stream",
     "text": [
      "<>:2: SyntaxWarning: invalid escape sequence '\\s'\n",
      "<>:2: SyntaxWarning: invalid escape sequence '\\s'\n",
      "C:\\Users\\aparu\\AppData\\Local\\Temp\\ipykernel_15544\\3156140558.py:2: SyntaxWarning: invalid escape sequence '\\s'\n",
      "  df=pd.read_csv(\"C:\\survey lung cancer.csv\")\n"
     ]
    }
   ],
   "source": [
    "import pandas as pd \n",
    "df=pd.read_csv(\"C:\\survey lung cancer.csv\")\n",
    "x=df.notnull()\n",
    "print(x)"
   ]
  },
  {
   "cell_type": "code",
   "execution_count": 106,
   "id": "55e0276e-1a89-4785-ab07-1cc4b7120624",
   "metadata": {},
   "outputs": [
    {
     "name": "stdout",
     "output_type": "stream",
     "text": [
      "    GENDER  AGE  SMOKING  YELLOW_FINGERS  ANXIETY  PEER_PRESSURE  \\\n",
      "0        M   69        1               2        2              1   \n",
      "1        M   74        2               1        1              1   \n",
      "2        F   59        1               1        1              2   \n",
      "3        M   63        2               2        2              1   \n",
      "4        F   63        1               2        1              1   \n",
      "..     ...  ...      ...             ...      ...            ...   \n",
      "304      F   56        1               1        1              2   \n",
      "305      M   70        2               1        1              1   \n",
      "306      M   58        2               1        1              1   \n",
      "307      M   67        2               1        2              1   \n",
      "308      M   62        1               1        1              2   \n",
      "\n",
      "     CHRONIC DISEASE  FATIGUE   ALLERGY   WHEEZING  ALCOHOL CONSUMING  \\\n",
      "0                  1         2         1         2                  2   \n",
      "1                  2         2         2         1                  1   \n",
      "2                  1         2         1         2                  1   \n",
      "3                  1         1         1         1                  2   \n",
      "4                  1         1         1         2                  1   \n",
      "..               ...       ...       ...       ...                ...   \n",
      "304                2         2         1         1                  2   \n",
      "305                1         2         2         2                  2   \n",
      "306                1         1         2         2                  2   \n",
      "307                1         2         2         1                  2   \n",
      "308                1         2         2         2                  2   \n",
      "\n",
      "     COUGHING  SHORTNESS OF BREATH  SWALLOWING DIFFICULTY  CHEST PAIN  \\\n",
      "0           2                    2                      2           2   \n",
      "1           1                    2                      2           2   \n",
      "2           2                    2                      1           2   \n",
      "3           1                    1                      2           2   \n",
      "4           2                    2                      1           1   \n",
      "..        ...                  ...                    ...         ...   \n",
      "304         2                    2                      2           1   \n",
      "305         2                    2                      1           2   \n",
      "306         2                    1                      1           2   \n",
      "307         2                    2                      1           2   \n",
      "308         1                    1                      2           1   \n",
      "\n",
      "    LUNG_CANCER  \n",
      "0           YES  \n",
      "1           YES  \n",
      "2            NO  \n",
      "3            NO  \n",
      "4            NO  \n",
      "..          ...  \n",
      "304         YES  \n",
      "305         YES  \n",
      "306         YES  \n",
      "307         YES  \n",
      "308         YES  \n",
      "\n",
      "[309 rows x 16 columns]\n"
     ]
    },
    {
     "name": "stderr",
     "output_type": "stream",
     "text": [
      "<>:2: SyntaxWarning: invalid escape sequence '\\s'\n",
      "<>:2: SyntaxWarning: invalid escape sequence '\\s'\n",
      "C:\\Users\\aparu\\AppData\\Local\\Temp\\ipykernel_15544\\3674634625.py:2: SyntaxWarning: invalid escape sequence '\\s'\n",
      "  df=pd.read_csv(\"C:\\survey lung cancer.csv\")\n"
     ]
    }
   ],
   "source": [
    "import pandas as pd \n",
    "df=pd.read_csv(\"C:\\survey lung cancer.csv\")\n",
    "x=df.dropna()\n",
    "print(x)"
   ]
  },
  {
   "cell_type": "code",
   "execution_count": 138,
   "id": "5d4c2619-a959-4b3a-af90-f15b060a0f0a",
   "metadata": {},
   "outputs": [
    {
     "name": "stdout",
     "output_type": "stream",
     "text": [
      "    GENDER  AGE  SMOKING  YELLOW_FINGERS  ANXIETY  PEER_PRESSURE  \\\n",
      "0        M   69        1               2        2              1   \n",
      "1        M   74        2               1        1              1   \n",
      "2        F   59        1               1        1              2   \n",
      "3        M   63        2               2        2              1   \n",
      "4        F   63        1               2        1              1   \n",
      "..     ...  ...      ...             ...      ...            ...   \n",
      "304      F   56        1               1        1              2   \n",
      "305      M   70        2               1        1              1   \n",
      "306      M   58        2               1        1              1   \n",
      "307      M   67        2               1        2              1   \n",
      "308      M   62        1               1        1              2   \n",
      "\n",
      "     CHRONIC DISEASE  FATIGUE   ALLERGY   WHEEZING  ALCOHOL CONSUMING  \\\n",
      "0                  1         2         1         2                  2   \n",
      "1                  2         2         2         1                  1   \n",
      "2                  1         2         1         2                  1   \n",
      "3                  1         1         1         1                  2   \n",
      "4                  1         1         1         2                  1   \n",
      "..               ...       ...       ...       ...                ...   \n",
      "304                2         2         1         1                  2   \n",
      "305                1         2         2         2                  2   \n",
      "306                1         1         2         2                  2   \n",
      "307                1         2         2         1                  2   \n",
      "308                1         2         2         2                  2   \n",
      "\n",
      "     COUGHING  SHORTNESS OF BREATH  SWALLOWING DIFFICULTY  CHEST PAIN  \\\n",
      "0           2                    2                      2           2   \n",
      "1           1                    2                      2           2   \n",
      "2           2                    2                      1           2   \n",
      "3           1                    1                      2           2   \n",
      "4           2                    2                      1           1   \n",
      "..        ...                  ...                    ...         ...   \n",
      "304         2                    2                      2           1   \n",
      "305         2                    2                      1           2   \n",
      "306         2                    1                      1           2   \n",
      "307         2                    2                      1           2   \n",
      "308         1                    1                      2           1   \n",
      "\n",
      "    LUNG_CANCER  \n",
      "0           YES  \n",
      "1           YES  \n",
      "2            NO  \n",
      "3            NO  \n",
      "4            NO  \n",
      "..          ...  \n",
      "304         YES  \n",
      "305         YES  \n",
      "306         YES  \n",
      "307         YES  \n",
      "308         YES  \n",
      "\n",
      "[309 rows x 16 columns]\n",
      "    GENDER  AGE  SMOKING  YELLOW_FINGERS  ANXIETY  PEER_PRESSURE  \\\n",
      "0        M   69        1               2        2              1   \n",
      "1        M   74        2               1        1              1   \n",
      "2        F   59        1               1        1              2   \n",
      "3        M   63        2               2        2              1   \n",
      "4        F   63        1               2        1              1   \n",
      "..     ...  ...      ...             ...      ...            ...   \n",
      "304      F   56        1               1        1              2   \n",
      "305      M   70        2               1        1              1   \n",
      "306      M   58        2               1        1              1   \n",
      "307      M   67        2               1        2              1   \n",
      "308      M   62        1               1        1              2   \n",
      "\n",
      "     CHRONIC DISEASE  FATIGUE   ALLERGY   WHEEZING  ALCOHOL CONSUMING  \\\n",
      "0                  1         2         1         2                  2   \n",
      "1                  2         2         2         1                  1   \n",
      "2                  1         2         1         2                  1   \n",
      "3                  1         1         1         1                  2   \n",
      "4                  1         1         1         2                  1   \n",
      "..               ...       ...       ...       ...                ...   \n",
      "304                2         2         1         1                  2   \n",
      "305                1         2         2         2                  2   \n",
      "306                1         1         2         2                  2   \n",
      "307                1         2         2         1                  2   \n",
      "308                1         2         2         2                  2   \n",
      "\n",
      "     COUGHING  SHORTNESS OF BREATH  SWALLOWING DIFFICULTY  CHEST PAIN  \\\n",
      "0           2                    2                      2           2   \n",
      "1           1                    2                      2           2   \n",
      "2           2                    2                      1           2   \n",
      "3           1                    1                      2           2   \n",
      "4           2                    2                      1           1   \n",
      "..        ...                  ...                    ...         ...   \n",
      "304         2                    2                      2           1   \n",
      "305         2                    2                      1           2   \n",
      "306         2                    1                      1           2   \n",
      "307         2                    2                      1           2   \n",
      "308         1                    1                      2           1   \n",
      "\n",
      "    LUNG_CANCER  \n",
      "0           YES  \n",
      "1           YES  \n",
      "2            NO  \n",
      "3            NO  \n",
      "4            NO  \n",
      "..          ...  \n",
      "304         YES  \n",
      "305         YES  \n",
      "306         YES  \n",
      "307         YES  \n",
      "308         YES  \n",
      "\n",
      "[309 rows x 16 columns]\n",
      "    GENDER  AGE  SMOKING  YELLOW_FINGERS  ANXIETY  PEER_PRESSURE  \\\n",
      "0        M   69        1               2        2              1   \n",
      "1        M   74        2               1        1              1   \n",
      "2        F   59        1               1        1              2   \n",
      "3        M   63        2               2        2              1   \n",
      "4        F   63        1               2        1              1   \n",
      "..     ...  ...      ...             ...      ...            ...   \n",
      "304      F   56        1               1        1              2   \n",
      "305      M   70        2               1        1              1   \n",
      "306      M   58        2               1        1              1   \n",
      "307      M   67        2               1        2              1   \n",
      "308      M   62        1               1        1              2   \n",
      "\n",
      "     CHRONIC DISEASE  FATIGUE   ALLERGY   WHEEZING  ALCOHOL CONSUMING  \\\n",
      "0                  1         2         1         2                  2   \n",
      "1                  2         2         2         1                  1   \n",
      "2                  1         2         1         2                  1   \n",
      "3                  1         1         1         1                  2   \n",
      "4                  1         1         1         2                  1   \n",
      "..               ...       ...       ...       ...                ...   \n",
      "304                2         2         1         1                  2   \n",
      "305                1         2         2         2                  2   \n",
      "306                1         1         2         2                  2   \n",
      "307                1         2         2         1                  2   \n",
      "308                1         2         2         2                  2   \n",
      "\n",
      "     COUGHING  SHORTNESS OF BREATH  SWALLOWING DIFFICULTY  CHEST PAIN  \\\n",
      "0           2                    2                      2           2   \n",
      "1           1                    2                      2           2   \n",
      "2           2                    2                      1           2   \n",
      "3           1                    1                      2           2   \n",
      "4           2                    2                      1           1   \n",
      "..        ...                  ...                    ...         ...   \n",
      "304         2                    2                      2           1   \n",
      "305         2                    2                      1           2   \n",
      "306         2                    1                      1           2   \n",
      "307         2                    2                      1           2   \n",
      "308         1                    1                      2           1   \n",
      "\n",
      "    LUNG_CANCER  \n",
      "0           YES  \n",
      "1           YES  \n",
      "2            NO  \n",
      "3            NO  \n",
      "4            NO  \n",
      "..          ...  \n",
      "304         YES  \n",
      "305         YES  \n",
      "306         YES  \n",
      "307         YES  \n",
      "308         YES  \n",
      "\n",
      "[309 rows x 16 columns]\n"
     ]
    },
    {
     "name": "stderr",
     "output_type": "stream",
     "text": [
      "<>:2: SyntaxWarning: invalid escape sequence '\\s'\n",
      "<>:2: SyntaxWarning: invalid escape sequence '\\s'\n",
      "C:\\Users\\aparu\\AppData\\Local\\Temp\\ipykernel_15544\\1400084098.py:2: SyntaxWarning: invalid escape sequence '\\s'\n",
      "  df=pd.read_csv(\"C:\\survey lung cancer.csv\")\n"
     ]
    }
   ],
   "source": [
    "import pandas as pd \n",
    "df=pd.read_csv(\"C:\\survey lung cancer.csv\")\n",
    "print(df.dropna(axis = 1))\n",
    "print(df.dropna(axis = 1,thresh=7))\n",
    "print(df.fillna(4))"
   ]
  },
  {
   "cell_type": "code",
   "execution_count": 122,
   "id": "9264c8d6-06bb-44f6-b8a3-8e323bea3b07",
   "metadata": {},
   "outputs": [
    {
     "name": "stdout",
     "output_type": "stream",
     "text": [
      "    GENDER  AGE  SMOKING  YELLOW_FINGERS  ANXIETY  PEER_PRESSURE  \\\n",
      "0        M   69        1               2        2              1   \n",
      "1        M   74        2               1        1              1   \n",
      "2        F   59        1               1        1              2   \n",
      "3        M   63        2               2        2              1   \n",
      "4        F   63        1               2        1              1   \n",
      "..     ...  ...      ...             ...      ...            ...   \n",
      "304      F   56        1               1        1              2   \n",
      "305      M   70        2               1        1              1   \n",
      "306      M   58        2               1        1              1   \n",
      "307      M   67        2               1        2              1   \n",
      "308      M   62        1               1        1              2   \n",
      "\n",
      "     CHRONIC DISEASE  FATIGUE   ALLERGY   WHEEZING  ALCOHOL CONSUMING  \\\n",
      "0                  1         2         1         2                  2   \n",
      "1                  2         2         2         1                  1   \n",
      "2                  1         2         1         2                  1   \n",
      "3                  1         1         1         1                  2   \n",
      "4                  1         1         1         2                  1   \n",
      "..               ...       ...       ...       ...                ...   \n",
      "304                2         2         1         1                  2   \n",
      "305                1         2         2         2                  2   \n",
      "306                1         1         2         2                  2   \n",
      "307                1         2         2         1                  2   \n",
      "308                1         2         2         2                  2   \n",
      "\n",
      "     COUGHING  SHORTNESS OF BREATH  SWALLOWING DIFFICULTY  CHEST PAIN  \\\n",
      "0           2                    2                      2           2   \n",
      "1           1                    2                      2           2   \n",
      "2           2                    2                      1           2   \n",
      "3           1                    1                      2           2   \n",
      "4           2                    2                      1           1   \n",
      "..        ...                  ...                    ...         ...   \n",
      "304         2                    2                      2           1   \n",
      "305         2                    2                      1           2   \n",
      "306         2                    1                      1           2   \n",
      "307         2                    2                      1           2   \n",
      "308         1                    1                      2           1   \n",
      "\n",
      "    LUNG_CANCER  \n",
      "0           YES  \n",
      "1           YES  \n",
      "2            NO  \n",
      "3            NO  \n",
      "4            NO  \n",
      "..          ...  \n",
      "304         YES  \n",
      "305         YES  \n",
      "306         YES  \n",
      "307         YES  \n",
      "308         YES  \n",
      "\n",
      "[309 rows x 16 columns]\n"
     ]
    },
    {
     "name": "stderr",
     "output_type": "stream",
     "text": [
      "<>:2: SyntaxWarning: invalid escape sequence '\\s'\n",
      "<>:2: SyntaxWarning: invalid escape sequence '\\s'\n",
      "C:\\Users\\aparu\\AppData\\Local\\Temp\\ipykernel_15544\\2817580374.py:2: SyntaxWarning: invalid escape sequence '\\s'\n",
      "  df=pd.read_csv(\"C:\\survey lung cancer.csv\")\n"
     ]
    }
   ],
   "source": [
    "import pandas as pd \n",
    "df=pd.read_csv(\"C:\\survey lung cancer.csv\")\n",
    "x=df.fillna(df.mean)\n",
    "print(x)"
   ]
  },
  {
   "cell_type": "code",
   "execution_count": 128,
   "id": "bc7d81e9-07d7-4da2-a8ca-3e5b6b2eb952",
   "metadata": {},
   "outputs": [
    {
     "name": "stdout",
     "output_type": "stream",
     "text": [
      "    GENDER  AGE SMOKING YELLOW_FINGERS ANXIETY PEER_PRESSURE CHRONIC DISEASE  \\\n",
      "0        M   69     one              2       2           one             one   \n",
      "1        M   74       2            one     one           one               2   \n",
      "2        F   59     one            one     one             2             one   \n",
      "3        M   63       2              2       2           one             one   \n",
      "4        F   63     one              2     one           one             one   \n",
      "..     ...  ...     ...            ...     ...           ...             ...   \n",
      "304      F   56     one            one     one             2               2   \n",
      "305      M   70       2            one     one           one             one   \n",
      "306      M   58       2            one     one           one             one   \n",
      "307      M   67       2            one       2           one             one   \n",
      "308      M   62     one            one     one             2             one   \n",
      "\n",
      "    FATIGUE  ALLERGY  WHEEZING ALCOHOL CONSUMING COUGHING SHORTNESS OF BREATH  \\\n",
      "0          2      one        2                 2        2                   2   \n",
      "1          2        2      one               one      one                   2   \n",
      "2          2      one        2               one        2                   2   \n",
      "3        one      one      one                 2      one                 one   \n",
      "4        one      one        2               one        2                   2   \n",
      "..       ...      ...      ...               ...      ...                 ...   \n",
      "304        2      one      one                 2        2                   2   \n",
      "305        2        2        2                 2        2                   2   \n",
      "306      one        2        2                 2        2                 one   \n",
      "307        2        2      one                 2        2                   2   \n",
      "308        2        2        2                 2      one                 one   \n",
      "\n",
      "    SWALLOWING DIFFICULTY CHEST PAIN LUNG_CANCER  \n",
      "0                       2          2         YES  \n",
      "1                       2          2         YES  \n",
      "2                     one          2          NO  \n",
      "3                       2          2          NO  \n",
      "4                     one        one          NO  \n",
      "..                    ...        ...         ...  \n",
      "304                     2        one         YES  \n",
      "305                   one          2         YES  \n",
      "306                   one          2         YES  \n",
      "307                   one          2         YES  \n",
      "308                     2        one         YES  \n",
      "\n",
      "[309 rows x 16 columns]\n"
     ]
    },
    {
     "name": "stderr",
     "output_type": "stream",
     "text": [
      "<>:2: SyntaxWarning: invalid escape sequence '\\s'\n",
      "<>:2: SyntaxWarning: invalid escape sequence '\\s'\n",
      "C:\\Users\\aparu\\AppData\\Local\\Temp\\ipykernel_15544\\1899414354.py:2: SyntaxWarning: invalid escape sequence '\\s'\n",
      "  df=pd.read_csv(\"C:\\survey lung cancer.csv\")\n"
     ]
    }
   ],
   "source": [
    "import pandas as pd \n",
    "df=pd.read_csv(\"C:\\survey lung cancer.csv\")\n",
    "x=df.replace(1,'one')\n",
    "x=df.replace([1,3],['one','three'])\n",
    "print(x)"
   ]
  },
  {
   "cell_type": "code",
   "execution_count": 144,
   "id": "e45778c5-2800-4b99-81cd-bc9d3ea42613",
   "metadata": {},
   "outputs": [
    {
     "name": "stdout",
     "output_type": "stream",
     "text": [
      "     5   5  5  5  5  5  5  5  5  5  5  5  5  5  5    5\n",
      "0    M  69  1  2  2  1  1  2  1  2  2  2  2  2  2  YES\n",
      "1    M  74  2  1  1  1  2  2  2  1  1  1  2  2  2  YES\n",
      "2    F  59  1  1  1  2  1  2  1  2  1  2  2  1  2   NO\n",
      "3    M  63  2  2  2  1  1  1  1  1  2  1  1  2  2   NO\n",
      "4    F  63  1  2  1  1  1  1  1  2  1  2  2  1  1   NO\n",
      "..  ..  .. .. .. .. .. .. .. .. .. .. .. .. .. ..  ...\n",
      "304  F  56  1  1  1  2  2  2  1  1  2  2  2  2  1  YES\n",
      "305  M  70  2  1  1  1  1  2  2  2  2  2  2  1  2  YES\n",
      "306  M  58  2  1  1  1  1  1  2  2  2  2  1  1  2  YES\n",
      "307  M  67  2  1  2  1  1  2  2  1  2  2  2  1  2  YES\n",
      "308  M  62  1  1  1  2  1  2  2  2  2  1  1  2  1  YES\n",
      "\n",
      "[309 rows x 16 columns]\n",
      "    GENDER  AGE  SMOKING  YELLOW_FINGERS  ANXIETY  PEER_PRESSURE  \\\n",
      "0        M   69        1               2        2              1   \n",
      "1        M   74        2               1        1              1   \n",
      "2        F   59        1               1        1              2   \n",
      "3        M   63        2               2        2              1   \n",
      "4        F   63        1               2        1              1   \n",
      "..     ...  ...      ...             ...      ...            ...   \n",
      "304      F   56        1               1        1              2   \n",
      "305      M   70        2               1        1              1   \n",
      "306      M   58        2               1        1              1   \n",
      "307      M   67        2               1        2              1   \n",
      "308      M   62        1               1        1              2   \n",
      "\n",
      "     CHRONIC DISEASE  FATIGUE   ALLERGY   WHEEZING  ALCOHOL CONSUMING  \\\n",
      "0                  1         2         1         2                  2   \n",
      "1                  2         2         2         1                  1   \n",
      "2                  1         2         1         2                  1   \n",
      "3                  1         1         1         1                  2   \n",
      "4                  1         1         1         2                  1   \n",
      "..               ...       ...       ...       ...                ...   \n",
      "304                2         2         1         1                  2   \n",
      "305                1         2         2         2                  2   \n",
      "306                1         1         2         2                  2   \n",
      "307                1         2         2         1                  2   \n",
      "308                1         2         2         2                  2   \n",
      "\n",
      "     COUGHING  SHORTNESS OF BREATH  SWALLOWING DIFFICULTY  HAND PAIN  \\\n",
      "0           2                    2                      2          2   \n",
      "1           1                    2                      2          2   \n",
      "2           2                    2                      1          2   \n",
      "3           1                    1                      2          2   \n",
      "4           2                    2                      1          1   \n",
      "..        ...                  ...                    ...        ...   \n",
      "304         2                    2                      2          1   \n",
      "305         2                    2                      1          2   \n",
      "306         2                    1                      1          2   \n",
      "307         2                    2                      1          2   \n",
      "308         1                    1                      2          1   \n",
      "\n",
      "    LUNG_CANCER  \n",
      "0           YES  \n",
      "1           YES  \n",
      "2            NO  \n",
      "3            NO  \n",
      "4            NO  \n",
      "..          ...  \n",
      "304         YES  \n",
      "305         YES  \n",
      "306         YES  \n",
      "307         YES  \n",
      "308         YES  \n",
      "\n",
      "[309 rows x 16 columns]\n"
     ]
    },
    {
     "name": "stderr",
     "output_type": "stream",
     "text": [
      "<>:2: SyntaxWarning: invalid escape sequence '\\s'\n",
      "<>:2: SyntaxWarning: invalid escape sequence '\\s'\n",
      "C:\\Users\\aparu\\AppData\\Local\\Temp\\ipykernel_15544\\3108444245.py:2: SyntaxWarning: invalid escape sequence '\\s'\n",
      "  df=pd.read_csv(\"C:\\survey lung cancer.csv\")\n"
     ]
    }
   ],
   "source": [
    "import pandas as pd \n",
    "df=pd.read_csv(\"C:\\survey lung cancer.csv\")\n",
    "print(df.rename(columns=lambda x: 4+1))\n",
    "print(df.rename(columns={'CHEST PAIN':'HAND PAIN'}))\n"
   ]
  },
  {
   "cell_type": "code",
   "execution_count": 146,
   "id": "4071dfcc-1a5d-471d-97aa-440def5b5421",
   "metadata": {},
   "outputs": [
    {
     "name": "stdout",
     "output_type": "stream",
     "text": [
      "   GENDER  AGE  SMOKING  YELLOW_FINGERS  ANXIETY  PEER_PRESSURE  \\\n",
      "10      M   69        1               2        2              1   \n",
      "10      M   74        2               1        1              1   \n",
      "10      F   59        1               1        1              2   \n",
      "10      M   63        2               2        2              1   \n",
      "10      F   63        1               2        1              1   \n",
      "..    ...  ...      ...             ...      ...            ...   \n",
      "10      F   56        1               1        1              2   \n",
      "10      M   70        2               1        1              1   \n",
      "10      M   58        2               1        1              1   \n",
      "10      M   67        2               1        2              1   \n",
      "10      M   62        1               1        1              2   \n",
      "\n",
      "    CHRONIC DISEASE  FATIGUE   ALLERGY   WHEEZING  ALCOHOL CONSUMING  \\\n",
      "10                1         2         1         2                  2   \n",
      "10                2         2         2         1                  1   \n",
      "10                1         2         1         2                  1   \n",
      "10                1         1         1         1                  2   \n",
      "10                1         1         1         2                  1   \n",
      "..              ...       ...       ...       ...                ...   \n",
      "10                2         2         1         1                  2   \n",
      "10                1         2         2         2                  2   \n",
      "10                1         1         2         2                  2   \n",
      "10                1         2         2         1                  2   \n",
      "10                1         2         2         2                  2   \n",
      "\n",
      "    COUGHING  SHORTNESS OF BREATH  SWALLOWING DIFFICULTY  CHEST PAIN  \\\n",
      "10         2                    2                      2           2   \n",
      "10         1                    2                      2           2   \n",
      "10         2                    2                      1           2   \n",
      "10         1                    1                      2           2   \n",
      "10         2                    2                      1           1   \n",
      "..       ...                  ...                    ...         ...   \n",
      "10         2                    2                      2           1   \n",
      "10         2                    2                      1           2   \n",
      "10         2                    1                      1           2   \n",
      "10         2                    2                      1           2   \n",
      "10         1                    1                      2           1   \n",
      "\n",
      "   LUNG_CANCER  \n",
      "10         YES  \n",
      "10         YES  \n",
      "10          NO  \n",
      "10          NO  \n",
      "10          NO  \n",
      "..         ...  \n",
      "10         YES  \n",
      "10         YES  \n",
      "10         YES  \n",
      "10         YES  \n",
      "10         YES  \n",
      "\n",
      "[309 rows x 16 columns]\n"
     ]
    },
    {
     "name": "stderr",
     "output_type": "stream",
     "text": [
      "<>:2: SyntaxWarning: invalid escape sequence '\\s'\n",
      "<>:2: SyntaxWarning: invalid escape sequence '\\s'\n",
      "C:\\Users\\aparu\\AppData\\Local\\Temp\\ipykernel_15544\\3086509170.py:2: SyntaxWarning: invalid escape sequence '\\s'\n",
      "  df=pd.read_csv(\"C:\\survey lung cancer.csv\")\n"
     ]
    }
   ],
   "source": [
    "import pandas as pd \n",
    "df=pd.read_csv(\"C:\\survey lung cancer.csv\")\n",
    "print(df.rename(index=lambda x: 9+1))"
   ]
  },
  {
   "cell_type": "code",
   "execution_count": 1,
   "id": "aaf4a9e4-8989-4b1c-9674-39ad0285abff",
   "metadata": {},
   "outputs": [
    {
     "name": "stderr",
     "output_type": "stream",
     "text": [
      "<>:4: SyntaxWarning: invalid escape sequence '\\s'\n",
      "<>:4: SyntaxWarning: invalid escape sequence '\\s'\n",
      "C:\\Users\\aparu\\AppData\\Local\\Temp\\ipykernel_15408\\1983669085.py:4: SyntaxWarning: invalid escape sequence '\\s'\n",
      "  df = pd.read_csv(\"C:\\survey lung cancer.csv\")\n"
     ]
    },
    {
     "name": "stdout",
     "output_type": "stream",
     "text": [
      "0      1\n",
      "1      2\n",
      "2      1\n",
      "3      1\n",
      "4      1\n",
      "      ..\n",
      "304    2\n",
      "305    1\n",
      "306    1\n",
      "307    1\n",
      "308    1\n",
      "Name: CHRONIC DISEASE, Length: 309, dtype: int64\n",
      "    GENDER  AGE  SMOKING  YELLOW_FINGERS  ANXIETY  PEER_PRESSURE  \\\n",
      "0        M   69        1               2        2              1   \n",
      "1        M   74        2               1        1              1   \n",
      "2        F   59        1               1        1              2   \n",
      "3        M   63        2               2        2              1   \n",
      "4        F   63        1               2        1              1   \n",
      "..     ...  ...      ...             ...      ...            ...   \n",
      "304      F   56        1               1        1              2   \n",
      "305      M   70        2               1        1              1   \n",
      "306      M   58        2               1        1              1   \n",
      "307      M   67        2               1        2              1   \n",
      "308      M   62        1               1        1              2   \n",
      "\n",
      "     CHRONIC DISEASE  FATIGUE   ALLERGY   WHEEZING  ALCOHOL CONSUMING  \\\n",
      "0                  1         2         1         2                  2   \n",
      "1                  2         2         2         1                  1   \n",
      "2                  1         2         1         2                  1   \n",
      "3                  1         1         1         1                  2   \n",
      "4                  1         1         1         2                  1   \n",
      "..               ...       ...       ...       ...                ...   \n",
      "304                2         2         1         1                  2   \n",
      "305                1         2         2         2                  2   \n",
      "306                1         1         2         2                  2   \n",
      "307                1         2         2         1                  2   \n",
      "308                1         2         2         2                  2   \n",
      "\n",
      "     COUGHING  SHORTNESS OF BREATH  SWALLOWING DIFFICULTY  CHEST PAIN  \\\n",
      "0           2                    2                      2           2   \n",
      "1           1                    2                      2           2   \n",
      "2           2                    2                      1           2   \n",
      "3           1                    1                      2           2   \n",
      "4           2                    2                      1           1   \n",
      "..        ...                  ...                    ...         ...   \n",
      "304         2                    2                      2           1   \n",
      "305         2                    2                      1           2   \n",
      "306         2                    1                      1           2   \n",
      "307         2                    2                      1           2   \n",
      "308         1                    1                      2           1   \n",
      "\n",
      "    LUNG_CANCER  \n",
      "0           YES  \n",
      "1           YES  \n",
      "2            NO  \n",
      "3            NO  \n",
      "4            NO  \n",
      "..          ...  \n",
      "304         YES  \n",
      "305         YES  \n",
      "306         YES  \n",
      "307         YES  \n",
      "308         YES  \n",
      "\n",
      "[309 rows x 16 columns]\n"
     ]
    }
   ],
   "source": [
    "import pandas as pd\n",
    "df = pd.read_csv(\"C:\\survey lung cancer.csv\")\n",
    "print(df['CHRONIC DISEASE'])\n",
    "print(df)"
   ]
  },
  {
   "cell_type": "code",
   "execution_count": 13,
   "id": "86c8eeec-e6bf-48e1-8d9a-b1a23920d2cc",
   "metadata": {},
   "outputs": [
    {
     "name": "stdout",
     "output_type": "stream",
     "text": [
      "    GENDER AGE SMOKING YELLOW_FINGERS ANXIETY PEER_PRESSURE CHRONIC DISEASE  \\\n",
      "0        M  69       1              2       2             1               1   \n",
      "1        M  74       2              1       1             1               2   \n",
      "2        F  59       1              1       1             2               1   \n",
      "3        M  63       2              2       2             1               1   \n",
      "4        F  63       1              2       1             1               1   \n",
      "..     ...  ..     ...            ...     ...           ...             ...   \n",
      "304      F  56       1              1       1             2               2   \n",
      "305      M  70       2              1       1             1               1   \n",
      "306      M  58       2              1       1             1               1   \n",
      "307      M  67       2              1       2             1               1   \n",
      "308      M  62       1              1       1             2               1   \n",
      "\n",
      "    FATIGUE  ALLERGY  WHEEZING ALCOHOL CONSUMING COUGHING SHORTNESS OF BREATH  \\\n",
      "0          2        1        2                 2        2                   2   \n",
      "1          2        2        1                 1        1                   2   \n",
      "2          2        1        2                 1        2                   2   \n",
      "3          1        1        1                 2        1                   1   \n",
      "4          1        1        2                 1        2                   2   \n",
      "..       ...      ...      ...               ...      ...                 ...   \n",
      "304        2        1        1                 2        2                   2   \n",
      "305        2        2        2                 2        2                   2   \n",
      "306        1        2        2                 2        2                   1   \n",
      "307        2        2        1                 2        2                   2   \n",
      "308        2        2        2                 2        1                   1   \n",
      "\n",
      "    SWALLOWING DIFFICULTY CHEST PAIN LUNG_CANCER  \n",
      "0                       2          2         YES  \n",
      "1                       2          2         YES  \n",
      "2                       1          2          NO  \n",
      "3                       2          2          NO  \n",
      "4                       1          1          NO  \n",
      "..                    ...        ...         ...  \n",
      "304                     2          1         YES  \n",
      "305                     1          2         YES  \n",
      "306                     1          2         YES  \n",
      "307                     1          2         YES  \n",
      "308                     2          1         YES  \n",
      "\n",
      "[309 rows x 16 columns]\n"
     ]
    },
    {
     "name": "stderr",
     "output_type": "stream",
     "text": [
      "<>:2: SyntaxWarning: invalid escape sequence '\\s'\n",
      "<>:2: SyntaxWarning: invalid escape sequence '\\s'\n",
      "C:\\Users\\aparu\\AppData\\Local\\Temp\\ipykernel_15408\\2312802470.py:2: SyntaxWarning: invalid escape sequence '\\s'\n",
      "  df = pd.read_csv(\"C:\\survey lung cancer.csv\")\n"
     ]
    }
   ],
   "source": [
    "import pandas as pd\n",
    "df = pd.read_csv(\"C:\\survey lung cancer.csv\")\n",
    "x=df.astype(str)\n",
    "print(x)"
   ]
  },
  {
   "cell_type": "code",
   "execution_count": null,
   "id": "98a9c04d-9677-4bf8-88ae-6c167ccd25b6",
   "metadata": {},
   "outputs": [],
   "source": []
  }
 ],
 "metadata": {
  "kernelspec": {
   "display_name": "Python 3 (ipykernel)",
   "language": "python",
   "name": "python3"
  },
  "language_info": {
   "codemirror_mode": {
    "name": "ipython",
    "version": 3
   },
   "file_extension": ".py",
   "mimetype": "text/x-python",
   "name": "python",
   "nbconvert_exporter": "python",
   "pygments_lexer": "ipython3",
   "version": "3.12.4"
  }
 },
 "nbformat": 4,
 "nbformat_minor": 5
}
